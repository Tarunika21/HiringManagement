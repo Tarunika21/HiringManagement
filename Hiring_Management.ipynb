{
  "nbformat": 4,
  "nbformat_minor": 0,
  "metadata": {
    "colab": {
      "provenance": [],
      "toc_visible": true,
      "authorship_tag": "ABX9TyMxQbScJDzNZimWIprb62Du",
      "include_colab_link": true
    },
    "kernelspec": {
      "name": "python3",
      "display_name": "Python 3"
    },
    "language_info": {
      "name": "python"
    }
  },
  "cells": [
    {
      "cell_type": "markdown",
      "metadata": {
        "id": "view-in-github",
        "colab_type": "text"
      },
      "source": [
        "<a href=\"https://colab.research.google.com/github/Tarunika21/HiringManagement/blob/main/Hiring_Management.ipynb\" target=\"_parent\"><img src=\"https://colab.research.google.com/assets/colab-badge.svg\" alt=\"Open In Colab\"/></a>"
      ]
    },
    {
      "cell_type": "code",
      "source": [
        "!pip install pdfplumber\n",
        "!pip install pytesseract\n",
        "!sudo apt install tesseract-ocr\n",
        "!pip install pdf2image\n",
        "!sudo apt-get update\n",
        "!sudo apt-get install python-poppler\n",
        "!pip install PyMuPDF\n",
        "!pip install Aspose.Email-for-Python-via-NET\n",
        "!pip install aspose-words\n",
        "!pip install tqdm"
      ],
      "metadata": {
        "colab": {
          "base_uri": "https://localhost:8080/"
        },
        "id": "oCl7N5jTVW8p",
        "outputId": "b1e8da0e-ee19-477d-f32a-4e2d8cd6750a"
      },
      "execution_count": 163,
      "outputs": [
        {
          "output_type": "stream",
          "name": "stdout",
          "text": [
            "Requirement already satisfied: pdfplumber in /usr/local/lib/python3.10/dist-packages (0.10.2)\n",
            "Requirement already satisfied: pdfminer.six==20221105 in /usr/local/lib/python3.10/dist-packages (from pdfplumber) (20221105)\n",
            "Requirement already satisfied: Pillow>=9.1 in /usr/local/lib/python3.10/dist-packages (from pdfplumber) (9.4.0)\n",
            "Requirement already satisfied: pypdfium2>=4.18.0 in /usr/local/lib/python3.10/dist-packages (from pdfplumber) (4.18.0)\n",
            "Requirement already satisfied: charset-normalizer>=2.0.0 in /usr/local/lib/python3.10/dist-packages (from pdfminer.six==20221105->pdfplumber) (3.2.0)\n",
            "Requirement already satisfied: cryptography>=36.0.0 in /usr/local/lib/python3.10/dist-packages (from pdfminer.six==20221105->pdfplumber) (41.0.3)\n",
            "Requirement already satisfied: cffi>=1.12 in /usr/local/lib/python3.10/dist-packages (from cryptography>=36.0.0->pdfminer.six==20221105->pdfplumber) (1.15.1)\n",
            "Requirement already satisfied: pycparser in /usr/local/lib/python3.10/dist-packages (from cffi>=1.12->cryptography>=36.0.0->pdfminer.six==20221105->pdfplumber) (2.21)\n",
            "Requirement already satisfied: pytesseract in /usr/local/lib/python3.10/dist-packages (0.3.10)\n",
            "Requirement already satisfied: packaging>=21.3 in /usr/local/lib/python3.10/dist-packages (from pytesseract) (23.1)\n",
            "Requirement already satisfied: Pillow>=8.0.0 in /usr/local/lib/python3.10/dist-packages (from pytesseract) (9.4.0)\n",
            "Reading package lists... Done\n",
            "Building dependency tree... Done\n",
            "Reading state information... Done\n",
            "tesseract-ocr is already the newest version (4.1.1-2.1build1).\n",
            "0 upgraded, 0 newly installed, 0 to remove and 16 not upgraded.\n",
            "Requirement already satisfied: pdf2image in /usr/local/lib/python3.10/dist-packages (1.16.3)\n",
            "Requirement already satisfied: pillow in /usr/local/lib/python3.10/dist-packages (from pdf2image) (9.4.0)\n",
            "Hit:1 https://developer.download.nvidia.com/compute/cuda/repos/ubuntu2204/x86_64  InRelease\n",
            "Hit:2 http://security.ubuntu.com/ubuntu jammy-security InRelease\n",
            "Hit:3 https://cloud.r-project.org/bin/linux/ubuntu jammy-cran40/ InRelease\n",
            "Hit:4 http://archive.ubuntu.com/ubuntu jammy InRelease\n",
            "Hit:5 http://archive.ubuntu.com/ubuntu jammy-updates InRelease\n",
            "Get:6 http://archive.ubuntu.com/ubuntu jammy-backports InRelease [109 kB]\n",
            "Hit:7 https://ppa.launchpadcontent.net/c2d4u.team/c2d4u4.0+/ubuntu jammy InRelease\n",
            "Hit:8 https://ppa.launchpadcontent.net/deadsnakes/ppa/ubuntu jammy InRelease\n",
            "Hit:9 https://ppa.launchpadcontent.net/graphics-drivers/ppa/ubuntu jammy InRelease\n",
            "Hit:10 https://ppa.launchpadcontent.net/ubuntugis/ppa/ubuntu jammy InRelease\n",
            "Fetched 109 kB in 3s (41.8 kB/s)\n",
            "Reading package lists... Done\n",
            "Reading package lists... Done\n",
            "Building dependency tree... Done\n",
            "Reading state information... Done\n",
            "E: Unable to locate package python-poppler\n",
            "Requirement already satisfied: PyMuPDF in /usr/local/lib/python3.10/dist-packages (1.23.1)\n",
            "Requirement already satisfied: PyMuPDFb==1.23.0 in /usr/local/lib/python3.10/dist-packages (from PyMuPDF) (1.23.0)\n",
            "Requirement already satisfied: Aspose.Email-for-Python-via-NET in /usr/local/lib/python3.10/dist-packages (23.7)\n",
            "Requirement already satisfied: aspose-words in /usr/local/lib/python3.10/dist-packages (23.8.0)\n",
            "Requirement already satisfied: tqdm in /usr/local/lib/python3.10/dist-packages (4.66.1)\n"
          ]
        }
      ]
    },
    {
      "cell_type": "code",
      "execution_count": 197,
      "metadata": {
        "id": "izQHnZOQi_E8"
      },
      "outputs": [],
      "source": [
        "from gensim.models.phrases import Phrases, Phraser\n",
        "from gensim.models import Word2Vec\n",
        "import pandas as pd\n",
        "import joblib\n",
        "import os\n",
        "import warnings\n",
        "import string\n",
        "import numpy as np\n",
        "from itertools import groupby, count\n",
        "import re\n",
        "import subprocess\n",
        "import os.path\n",
        "import logging\n",
        "import pytesseract\n",
        "import cv2\n",
        "from pdf2image import convert_from_path\n",
        "from PIL import Image\n",
        "import aspose.words as aw\n",
        "import fitz\n",
        "Image.MAX_IMAGE_PIXELS = 1000000000\n",
        "logger_watchtower = logging.getLogger(__name__)\n",
        "warnings.filterwarnings(action = 'ignore')"
      ]
    },
    {
      "cell_type": "code",
      "source": [
        "# csv file with data and url from it was taken\n",
        "df = pd.read_csv('/content/domain_knowledge.csv')\n",
        "df.head(2)"
      ],
      "metadata": {
        "colab": {
          "base_uri": "https://localhost:8080/",
          "height": 112
        },
        "id": "7srGNrbvjKbJ",
        "outputId": "1e3fcd2a-0618-4d7a-adfd-0d918c30d137"
      },
      "execution_count": 198,
      "outputs": [
        {
          "output_type": "execute_result",
          "data": {
            "text/plain": [
              "   Unnamed: 0                                                URL  \\\n",
              "0           0  https://www.analyticsvidhya.com/blog/2022/06/c...   \n",
              "1           1  https://www.analyticsvidhya.com/blog/2022/06/2...   \n",
              "\n",
              "                                                data  \n",
              "0  article published part data science blogathon ...  \n",
              "1  article published part data science blogathon ...  "
            ],
            "text/html": [
              "\n",
              "  <div id=\"df-1e813806-1df0-4963-bb05-9c29d196efd7\" class=\"colab-df-container\">\n",
              "    <div>\n",
              "<style scoped>\n",
              "    .dataframe tbody tr th:only-of-type {\n",
              "        vertical-align: middle;\n",
              "    }\n",
              "\n",
              "    .dataframe tbody tr th {\n",
              "        vertical-align: top;\n",
              "    }\n",
              "\n",
              "    .dataframe thead th {\n",
              "        text-align: right;\n",
              "    }\n",
              "</style>\n",
              "<table border=\"1\" class=\"dataframe\">\n",
              "  <thead>\n",
              "    <tr style=\"text-align: right;\">\n",
              "      <th></th>\n",
              "      <th>Unnamed: 0</th>\n",
              "      <th>URL</th>\n",
              "      <th>data</th>\n",
              "    </tr>\n",
              "  </thead>\n",
              "  <tbody>\n",
              "    <tr>\n",
              "      <th>0</th>\n",
              "      <td>0</td>\n",
              "      <td>https://www.analyticsvidhya.com/blog/2022/06/c...</td>\n",
              "      <td>article published part data science blogathon ...</td>\n",
              "    </tr>\n",
              "    <tr>\n",
              "      <th>1</th>\n",
              "      <td>1</td>\n",
              "      <td>https://www.analyticsvidhya.com/blog/2022/06/2...</td>\n",
              "      <td>article published part data science blogathon ...</td>\n",
              "    </tr>\n",
              "  </tbody>\n",
              "</table>\n",
              "</div>\n",
              "    <div class=\"colab-df-buttons\">\n",
              "\n",
              "  <div class=\"colab-df-container\">\n",
              "    <button class=\"colab-df-convert\" onclick=\"convertToInteractive('df-1e813806-1df0-4963-bb05-9c29d196efd7')\"\n",
              "            title=\"Convert this dataframe to an interactive table.\"\n",
              "            style=\"display:none;\">\n",
              "\n",
              "  <svg xmlns=\"http://www.w3.org/2000/svg\" height=\"24px\" viewBox=\"0 -960 960 960\">\n",
              "    <path d=\"M120-120v-720h720v720H120Zm60-500h600v-160H180v160Zm220 220h160v-160H400v160Zm0 220h160v-160H400v160ZM180-400h160v-160H180v160Zm440 0h160v-160H620v160ZM180-180h160v-160H180v160Zm440 0h160v-160H620v160Z\"/>\n",
              "  </svg>\n",
              "    </button>\n",
              "\n",
              "  <style>\n",
              "    .colab-df-container {\n",
              "      display:flex;\n",
              "      gap: 12px;\n",
              "    }\n",
              "\n",
              "    .colab-df-convert {\n",
              "      background-color: #E8F0FE;\n",
              "      border: none;\n",
              "      border-radius: 50%;\n",
              "      cursor: pointer;\n",
              "      display: none;\n",
              "      fill: #1967D2;\n",
              "      height: 32px;\n",
              "      padding: 0 0 0 0;\n",
              "      width: 32px;\n",
              "    }\n",
              "\n",
              "    .colab-df-convert:hover {\n",
              "      background-color: #E2EBFA;\n",
              "      box-shadow: 0px 1px 2px rgba(60, 64, 67, 0.3), 0px 1px 3px 1px rgba(60, 64, 67, 0.15);\n",
              "      fill: #174EA6;\n",
              "    }\n",
              "\n",
              "    .colab-df-buttons div {\n",
              "      margin-bottom: 4px;\n",
              "    }\n",
              "\n",
              "    [theme=dark] .colab-df-convert {\n",
              "      background-color: #3B4455;\n",
              "      fill: #D2E3FC;\n",
              "    }\n",
              "\n",
              "    [theme=dark] .colab-df-convert:hover {\n",
              "      background-color: #434B5C;\n",
              "      box-shadow: 0px 1px 3px 1px rgba(0, 0, 0, 0.15);\n",
              "      filter: drop-shadow(0px 1px 2px rgba(0, 0, 0, 0.3));\n",
              "      fill: #FFFFFF;\n",
              "    }\n",
              "  </style>\n",
              "\n",
              "    <script>\n",
              "      const buttonEl =\n",
              "        document.querySelector('#df-1e813806-1df0-4963-bb05-9c29d196efd7 button.colab-df-convert');\n",
              "      buttonEl.style.display =\n",
              "        google.colab.kernel.accessAllowed ? 'block' : 'none';\n",
              "\n",
              "      async function convertToInteractive(key) {\n",
              "        const element = document.querySelector('#df-1e813806-1df0-4963-bb05-9c29d196efd7');\n",
              "        const dataTable =\n",
              "          await google.colab.kernel.invokeFunction('convertToInteractive',\n",
              "                                                    [key], {});\n",
              "        if (!dataTable) return;\n",
              "\n",
              "        const docLinkHtml = 'Like what you see? Visit the ' +\n",
              "          '<a target=\"_blank\" href=https://colab.research.google.com/notebooks/data_table.ipynb>data table notebook</a>'\n",
              "          + ' to learn more about interactive tables.';\n",
              "        element.innerHTML = '';\n",
              "        dataTable['output_type'] = 'display_data';\n",
              "        await google.colab.output.renderOutput(dataTable, element);\n",
              "        const docLink = document.createElement('div');\n",
              "        docLink.innerHTML = docLinkHtml;\n",
              "        element.appendChild(docLink);\n",
              "      }\n",
              "    </script>\n",
              "  </div>\n",
              "\n",
              "    </div>\n",
              "  </div>\n"
            ]
          },
          "metadata": {},
          "execution_count": 198
        }
      ]
    },
    {
      "cell_type": "code",
      "source": [
        "sent = [row.split() for row in df['data']]  # tokenize\n",
        "phrases = Phrases(sent, min_count=30, progress_per=10000)\n",
        "sentences = phrases[sent]"
      ],
      "metadata": {
        "id": "PmwW_EvWRGIy"
      },
      "execution_count": 199,
      "outputs": []
    },
    {
      "cell_type": "code",
      "source": [
        "# word embeddings\n",
        "w2v_model = Word2Vec(min_count=20,     # ignore than this count\n",
        "                     window=3,         # max of this doesn't belong to same group\n",
        "                     vector_size=300,  # embedding size\n",
        "                     sample=6e-5,\n",
        "                     alpha=0.03,\n",
        "                     min_alpha=0.0007,\n",
        "                     negative=20\n",
        "                     )"
      ],
      "metadata": {
        "id": "nJ21C8CNlMup"
      },
      "execution_count": 200,
      "outputs": []
    },
    {
      "cell_type": "code",
      "source": [
        "# building vocabulary\n",
        "w2v_model.build_vocab(sentences)"
      ],
      "metadata": {
        "id": "Bv9RDSFql3gE"
      },
      "execution_count": 201,
      "outputs": []
    },
    {
      "cell_type": "code",
      "source": [
        "# words in the model\n",
        "w2v_keys = w2v_model.wv.index_to_key"
      ],
      "metadata": {
        "id": "zaPKA5DImBFi"
      },
      "execution_count": 202,
      "outputs": []
    },
    {
      "cell_type": "code",
      "source": [
        "# training the model\n",
        "w2v_model.train(\n",
        "    sentences,\n",
        "    total_examples = w2v_model.corpus_count,\n",
        "    epochs = 30,\n",
        "    report_delay = 1\n",
        "    )"
      ],
      "metadata": {
        "colab": {
          "base_uri": "https://localhost:8080/"
        },
        "id": "KxoRh861n6pM",
        "outputId": "c393699d-415e-42bf-a77c-e2db05624714"
      },
      "execution_count": 203,
      "outputs": [
        {
          "output_type": "execute_result",
          "data": {
            "text/plain": [
              "(648622, 2906040)"
            ]
          },
          "metadata": {},
          "execution_count": 203
        }
      ]
    },
    {
      "cell_type": "code",
      "source": [
        "# save the model\n",
        "joblib.dump(w2v_model, 'm1.joblib')"
      ],
      "metadata": {
        "colab": {
          "base_uri": "https://localhost:8080/"
        },
        "id": "ao78Jz9PowGf",
        "outputId": "6c73a0a7-6418-4b26-ea66-7c71699aea14"
      },
      "execution_count": 204,
      "outputs": [
        {
          "output_type": "execute_result",
          "data": {
            "text/plain": [
              "['m1.joblib']"
            ]
          },
          "metadata": {},
          "execution_count": 204
        }
      ]
    },
    {
      "cell_type": "code",
      "source": [
        "# checking for similarity of related words\n",
        "model1 = joblib.load('m1.joblib')\n",
        "print(model1.wv.similarity('neural_network', 'machine_learning'))"
      ],
      "metadata": {
        "colab": {
          "base_uri": "https://localhost:8080/"
        },
        "id": "rL45Gl1loJ_X",
        "outputId": "c9a75e74-2098-4c22-d007-df702cdb8996"
      },
      "execution_count": 205,
      "outputs": [
        {
          "output_type": "stream",
          "name": "stdout",
          "text": [
            "0.66658497\n"
          ]
        }
      ]
    },
    {
      "cell_type": "code",
      "source": [
        "# identify the boxes and return the skills set in it\n",
        "\n",
        "def _skills_in_box(image_gray,threshold=60):\n",
        "  img = image_gray.copy()\n",
        "  thresh_inv = cv2.threshold(img, 0, 255, cv2.THRESH_BINARY_INV+cv2.THRESH_OTSU)[1]\n",
        "\n",
        "  # Blur the image\n",
        "  blur = cv2.GaussianBlur(thresh_inv,(1,1),0)\n",
        "  thresh = cv2.threshold(blur, 0, 255, cv2.THRESH_BINARY+cv2.THRESH_OTSU)[1]\n",
        "\n",
        "  # find contours\n",
        "  contours = cv2.findContours(thresh, cv2.RETR_EXTERNAL, cv2.CHAIN_APPROX_SIMPLE)[0]\n",
        "  mask = np.ones(img.shape[:2], dtype=\"uint8\") * 255\n",
        "  available = 0\n",
        "\n",
        "  for c in contours:\n",
        "    # get the bounding rect\n",
        "    x, y, w, h = cv2.boundingRect(c)\n",
        "    if w*h>1000:\n",
        "        cv2.rectangle(mask, (x+5, y+5), (x+w-5, y+h-5), (0, 0, 255), -1)\n",
        "        available = 1\n",
        "\n",
        "  res = ''\n",
        "  if available == 1:\n",
        "    res_final = cv2.bitwise_and(img, img, mask=cv2.bitwise_not(mask))\n",
        "    res_final[res_final<=threshold]=0\n",
        "    kernel = np.array([[0, -1, 0], [-1, 5,-1], [0, -1, 0]])\n",
        "    res_fin = cv2.filter2D(src=res_final, ddepth=-1, kernel=kernel)\n",
        "    vt = pytesseract.image_to_data(255-res_final,output_type='data.frame')\n",
        "    vt = vt[vt.conf != -1]\n",
        "    res = ''\n",
        "\n",
        "    for i in vt[vt['conf']>=43]['text']:\n",
        "      res = res + str(i) + ' '\n",
        "  print(res)\n",
        "  return res"
      ],
      "metadata": {
        "id": "Z1FI1uzIwCwV"
      },
      "execution_count": 206,
      "outputs": []
    },
    {
      "cell_type": "code",
      "source": [
        "# return text in an image\n",
        "\n",
        "def _image_to_string(img):\n",
        "  img = cv2.cvtColor(img, cv2.COLOR_BGR2GRAY)\n",
        "  res = ''\n",
        "  string1 = pytesseract.image_to_data(img,output_type='data.frame')\n",
        "  string1 = string1[string1['conf'] != -1]\n",
        "\n",
        "  for i in string1[string1['conf']>=43]['text']:\n",
        "    res = res + str(i) + ' '\n",
        "  string3 = _skills_in_box(img)\n",
        "  return res+string3"
      ],
      "metadata": {
        "id": "qt89L_Jlv74j"
      },
      "execution_count": 207,
      "outputs": []
    },
    {
      "cell_type": "code",
      "source": [
        "# converts the pdf to image\n",
        "# return the text in it as string\n",
        "\n",
        "def _pdf_to_png(pdf_path):\n",
        "    string = ''\n",
        "    images = convert_from_path(pdf_path)\n",
        "\n",
        "    for j in tqdm(range(len(images))):\n",
        "        # Save pages as images in the pdf\n",
        "        image = np.array(images[j])\n",
        "        string += _image_to_string(image)\n",
        "        string += '\\n'\n",
        "    return string\n"
      ],
      "metadata": {
        "id": "ZTFIFBdisb1R"
      },
      "execution_count": 208,
      "outputs": []
    },
    {
      "cell_type": "code",
      "source": [
        "# to check if the pdf is image or not.\n",
        "# if .doc converts it to .pdf\n",
        "\n",
        "def ocr(paths):\n",
        "    text = \"\"\n",
        "    res = \"\"\n",
        "\n",
        "    try:\n",
        "        doc = fitz.open(paths)\n",
        "        for page in doc:\n",
        "            text += page.get_text()\n",
        "        if len(text) <=10 :\n",
        "            res = _pdf_to_png(paths)\n",
        "        else:\n",
        "            res = text\n",
        "    except:\n",
        "        doc = aw.Document(paths)\n",
        "        doc.save(\"Document.pdf\")\n",
        "        doc = fitz.open(\"Document.pdf\")\n",
        "        for page in doc:\n",
        "            text += page.get_text()\n",
        "        if len(text) <=10 :\n",
        "            res = _pdf_to_png(\"Document.pdf\")\n",
        "        else:\n",
        "            res = text\n",
        "        os.remove(\"Document.pdf\")\n",
        "    return res"
      ],
      "metadata": {
        "id": "UpOB3nmwske2"
      },
      "execution_count": 209,
      "outputs": []
    },
    {
      "cell_type": "code",
      "source": [
        "# to add an axis\n",
        "def to_la(L):\n",
        "  k=list(L)\n",
        "  l=np.array(k)\n",
        "\n",
        "  return l.reshape(-1, 1)\n",
        "\n",
        "# to find cosine similarity\n",
        "def cos(A, B):\n",
        "  dot_prod=np.matmul(A,B.T)\n",
        "  norm_a=np.reciprocal(np.sum(np.abs(A)**2,axis=-1)**(1./2))\n",
        "  norm_b=np.reciprocal(np.sum(np.abs(B)**2,axis=-1)**(1./2))\n",
        "  norm_a=to_la(norm_a)\n",
        "  norm_b=to_la(norm_b)\n",
        "  k=np.matmul(norm_a,norm_b.T)\n",
        "\n",
        "  return list(np.multiply(dot_prod,k))"
      ],
      "metadata": {
        "id": "xjpdStVJrI1w"
      },
      "execution_count": 210,
      "outputs": []
    },
    {
      "cell_type": "code",
      "source": [
        "# to screen the job description skills\n",
        "# with skills in the resume\n",
        "\n",
        "def check(path,skills,l2,w2v_model1,phrases,pattern):\n",
        "  text = ocr(path)\n",
        "  text = re.sub(r'[^\\x00-\\x7f]',r' ',text)\n",
        "  text = text.lower()\n",
        "  text = re.sub(\"\\\\\\|,|/|:|\\)|\\(\",\" \",text)\n",
        "  t2 = text.split()\n",
        "  l_2=l2.copy()\n",
        "  match=list(set(re.findall(pattern,text)))\n",
        "  sentences=phrases[t2]\n",
        "  resume_skills_dict={}\n",
        "  res_jdskill_intersect=list(set(sentences).intersection(set(l_2)))\n",
        "\n",
        "  if(len(match)!=0):\n",
        "    for k in match:\n",
        "      k=k.replace(' ','_')\n",
        "      resume_skills_dict[k]=1\n",
        "      try:\n",
        "        l_2.remove(k)\n",
        "      except:\n",
        "        continue\n",
        "\n",
        "  l6=list(set(l_2).intersection(skills[0]))\n",
        "  l6_minus_skills=list(set(l_2).difference(skills[0]))\n",
        "\n",
        "  for i in l6_minus_skills:\n",
        "    resume_skills_dict[i]=0\n",
        "\n",
        "  if(len(l6)==0):\n",
        "    return resume_skills_dict\n",
        "\n",
        "  l4=list(set(sentences).intersection(skills[0]))\n",
        "  arr1=np.array([w2v_model1[i] for i in l6])\n",
        "  arr2=np.array([w2v_model1[i] for i in l4])\n",
        "  similarity_values=cos(arr1,arr2)\n",
        "  count=0\n",
        "\n",
        "  # setting threshold of 0.38\n",
        "  for i in similarity_values:\n",
        "    k=list(filter(lambda x: x<0.38, list(i)))\n",
        "    if(len(k)==len(i)):\n",
        "      resume_skills_dict[l6[count]]=0\n",
        "    else:\n",
        "      resume_skills=[s for s in range(len(i)) if(i[s])>0.38]\n",
        "      resume_skills_dict[l6[count]]=1\n",
        "    count+=1\n",
        "\n",
        "  return resume_skills_dict"
      ],
      "metadata": {
        "id": "1Da3r4cdtIiU"
      },
      "execution_count": 211,
      "outputs": []
    },
    {
      "cell_type": "code",
      "source": [
        "def preprocess(string):\n",
        "  string = string.replace(\",\",' ')\n",
        "  string= string.replace(\"'\",' ')\n",
        "  string = list(set(list(string.split())))\n",
        "  return string"
      ],
      "metadata": {
        "id": "eorwVN98uAQ3"
      },
      "execution_count": 212,
      "outputs": []
    },
    {
      "cell_type": "code",
      "source": [
        "# driver function\n",
        "\n",
        "w2v_model1 = joblib.load('/content/m1.joblib')  # loading the model\n",
        "skills = w2v_keys    # loading the vocabulary\n",
        "jd_skills = 'java, kaggle, ml, mysql, oracle, python, pytorch, r, scikit learn, snowflake, sql, django'  # jd skills\n",
        "resume_path = '/content/resume3.pdf'  # to test\n",
        "\n",
        "# data preprocessing\n",
        "mapper = {}\n",
        "underscore=[]\n",
        "jd_skills=\" \".join(jd_skills.strip().split())\n",
        "jd_skills=jd_skills.replace(', ',',')\n",
        "pattern=jd_skills.replace(',','|').lower()\n",
        "\n",
        "for i in jd_skills.split(','):\n",
        "  if '_' in i:\n",
        "    underscore.append(i)\n",
        "    mapper[i.lower().replace('_',' ')] = i\n",
        "\n",
        "jd_skills=jd_skills.replace(' ','_')\n",
        "jd_skills=jd_skills.replace(',',', ')\n",
        "\n",
        "for i in jd_skills.split(', '):\n",
        "  if i not in underscore:\n",
        "    if '_' in i:\n",
        "      mapper[i.lower().replace('_',' ')] = i.replace('_',' ')\n",
        "    elif '-' in i:\n",
        "      mapper[i.lower().replace('-',' ')] = i\n",
        "    else:\n",
        "      mapper[i.lower()] = i\n",
        "\n",
        "jd_skills=jd_skills.replace('-','_')\n",
        "lines = [preprocess(jd_skills.lower().rstrip())]\n",
        "final_jd_skills=list(set(lines[0]).intersection(skills[0]))\n",
        "\n",
        "res = check(resume_path,skills,lines[0],w2v_model1,phrases,pattern)\n",
        "\n",
        "print('skills_matched :',res)"
      ],
      "metadata": {
        "colab": {
          "base_uri": "https://localhost:8080/"
        },
        "id": "Gw7CPnMLtLN2",
        "outputId": "f61cf746-ac39-401e-f71b-3a0bf0c93126"
      },
      "execution_count": 213,
      "outputs": [
        {
          "output_type": "stream",
          "name": "stdout",
          "text": [
            "skills_matched : {'r': 1, 'java': 1, 'sql': 1, 'python': 1, 'django': 1, 'ml': 1, 'scikit_learn': 0, 'kaggle': 0, 'snowflake': 0, 'oracle': 0, 'pytorch': 0, 'mysql': 0}\n"
          ]
        }
      ]
    },
    {
      "cell_type": "code",
      "source": [],
      "metadata": {
        "id": "eleOwvTdhoMB"
      },
      "execution_count": null,
      "outputs": []
    }
  ]
}